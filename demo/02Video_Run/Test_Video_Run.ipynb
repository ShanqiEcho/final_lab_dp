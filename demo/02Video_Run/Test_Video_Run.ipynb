{
 "cells": [
  {
   "cell_type": "code",
   "execution_count": 1,
   "metadata": {},
   "outputs": [
    {
     "data": {
      "text/plain": [
       "Dance3DCNN(\n",
       "  (conv1): Conv3d(3, 16, kernel_size=(3, 3, 3), stride=(1, 1, 1), padding=(1, 1, 1))\n",
       "  (pool1): MaxPool3d(kernel_size=(2, 2, 2), stride=(2, 2, 2), padding=0, dilation=1, ceil_mode=False)\n",
       "  (conv2): Conv3d(16, 32, kernel_size=(3, 3, 3), stride=(1, 1, 1), padding=(1, 1, 1))\n",
       "  (pool2): MaxPool3d(kernel_size=(2, 2, 2), stride=(1, 1, 1), padding=0, dilation=1, ceil_mode=False)\n",
       "  (fc2): Linear(in_features=128, out_features=4, bias=True)\n",
       ")"
      ]
     },
     "execution_count": 1,
     "metadata": {},
     "output_type": "execute_result"
    }
   ],
   "source": [
    "import torch\n",
    "import torch.nn as nn\n",
    "import cv2\n",
    "from torchvision import transforms\n",
    "from PIL import Image\n",
    "from collections import Counter\n",
    "\n",
    "class Dance3DCNN(nn.Module):\n",
    "    def __init__(self, num_classes):\n",
    "        super(Dance3DCNN, self).__init__()\n",
    "        self.conv1 = nn.Conv3d(3, 16, kernel_size=(3, 3, 3), stride=(1, 1, 1), padding=(1, 1, 1))\n",
    "        self.pool1 = nn.MaxPool3d(kernel_size=(2, 2, 2), stride=(2, 2, 2))\n",
    "        self.conv2 = nn.Conv3d(16, 32, kernel_size=(3, 3, 3), stride=(1, 1, 1), padding=(1, 1, 1))\n",
    "        self.pool2 = nn.MaxPool3d(kernel_size=(2, 2, 2), stride=(1, 1, 1))\n",
    "        self.fc1 = None\n",
    "        self.fc2 = nn.Linear(128, num_classes)\n",
    "\n",
    "    def forward(self, x):\n",
    "        x = torch.relu(self.conv1(x))\n",
    "        x = self.pool1(x)\n",
    "        x = torch.relu(self.conv2(x))\n",
    "        x = self.pool2(x)\n",
    "\n",
    "        if self.fc1 is None:\n",
    "            fc1_input_dim = x.numel() // x.size(0) \n",
    "            self.fc1 = nn.Linear(fc1_input_dim, 128).to(x.device)\n",
    "            # print(f\"Dynamic fc1 initialized with input_dim: {fc1_input_dim}\")\n",
    "\n",
    "            \n",
    "        x = x.view(x.size(0), -1)\n",
    "        x = torch.relu(self.fc1(x))\n",
    "        x = self.fc2(x)\n",
    "        return x\n",
    "\n",
    "\n",
    "\n",
    "num_classes = 4\n",
    "class_mapping = {0: \"HipHop\", 1: \"Jazz\", 2: \"Kata\", 3: \"Taichi\"}\n",
    "device = torch.device(\"cuda\" if torch.cuda.is_available() else \"cpu\")\n",
    "model = Dance3DCNN(num_classes=num_classes).to(device)\n",
    "state_dict = torch.load(\"ModelTry.pth\", map_location=device)\n",
    "\n",
    "\n",
    "state_dict.pop(\"fc1.weight\", None)\n",
    "state_dict.pop(\"fc1.bias\", None)\n",
    "\n",
    "\n",
    "model.load_state_dict(state_dict, strict=False)\n",
    "model.eval()\n"
   ]
  },
  {
   "cell_type": "code",
   "execution_count": 2,
   "metadata": {},
   "outputs": [
    {
     "name": "stdout",
     "output_type": "stream",
     "text": [
      "Frame Predictions: [1, 2, 0, 2, 2, 2, 2, 2, 2, 2, 2, 2, 2, 1, 0, 1, 1, 3, 1, 2, 1, 1, 0, 1, 0, 0, 1, 1, 0, 0, 0, 0, 0, 0, 0, 1, 1, 1, 3, 0, 0, 0, 0, 1, 1, 2, 2, 2, 2, 2, 2, 2, 0, 1, 1, 0, 1, 2, 2, 2, 3, 0, 1, 1, 0, 0, 1, 2, 0, 3, 2, 2, 2, 0, 0, 2, 2, 2, 3, 3, 0, 0, 0, 0, 0, 0, 1, 2, 2, 2, 2, 2, 1, 1, 1, 2, 1, 1, 1, 1, 2, 0, 2, 2, 2, 1, 2, 2, 0, 0, 0, 0, 0, 0, 0, 0, 0, 0, 3, 3, 0]\n",
      "Final Predicted Class: HipHop\n"
     ]
    }
   ],
   "source": [
    "\n",
    "video_path = \"TestVideo_KT01.mp4\"\n",
    "\n",
    "\n",
    "cap = cv2.VideoCapture(video_path)\n",
    "\n",
    "\n",
    "transform = transforms.Compose([\n",
    "    transforms.Resize((250, 250)),\n",
    "    transforms.ToTensor(),\n",
    "    transforms.Normalize(mean=[0.5, 0.5, 0.5], std=[0.5, 0.5, 0.5])\n",
    "])\n",
    "\n",
    "\n",
    "frame_count = 16 \n",
    "frame_interval = 2 \n",
    "frames = []\n",
    "frame_predictions = []\n",
    "frame_idx = 0\n",
    "\n",
    "\n",
    "while cap.isOpened():\n",
    "    ret, frame = cap.read()\n",
    "    if not ret:\n",
    "        break\n",
    "\n",
    "\n",
    "    if frame_idx % frame_interval == 0:\n",
    "\n",
    "        frame = cv2.cvtColor(frame, cv2.COLOR_BGR2RGB)\n",
    "        frame = Image.fromarray(frame)\n",
    "        frame = transform(frame)\n",
    "        frames.append(frame)\n",
    "\n",
    "    frame_idx += 1\n",
    "\n",
    "\n",
    "    if len(frames) == frame_count:\n",
    "\n",
    "        input_tensor = torch.stack(frames).unsqueeze(0).permute(0, 2, 1, 3, 4).to(device)  \n",
    "        # [batch_size, channels, time, height, width]\n",
    "\n",
    "\n",
    "        # print(f\"Input shape to model: {input_tensor.shape}\")\n",
    "\n",
    "\n",
    "        with torch.no_grad():\n",
    "            outputs = model(input_tensor)\n",
    "            _, predicted = torch.max(outputs, 1)\n",
    "            frame_predictions.append(predicted.item()) \n",
    "        frames = []\n",
    "\n",
    "cap.release()\n",
    "\n",
    "\n",
    "prediction_counts = Counter(frame_predictions)\n",
    "final_class = prediction_counts.most_common(1)[0][0]\n",
    "predicted_class_name = class_mapping[final_class]\n",
    "\n",
    "\n",
    "print(f\"Frame Predictions: {frame_predictions}\")\n",
    "print(f\"Final Predicted Class: {predicted_class_name}\")\n"
   ]
  },
  {
   "cell_type": "code",
   "execution_count": null,
   "metadata": {},
   "outputs": [],
   "source": []
  }
 ],
 "metadata": {
  "kernelspec": {
   "display_name": "Python 3 (ipykernel)",
   "language": "python",
   "name": "python3"
  },
  "language_info": {
   "codemirror_mode": {
    "name": "ipython",
    "version": 3
   },
   "file_extension": ".py",
   "mimetype": "text/x-python",
   "name": "python",
   "nbconvert_exporter": "python",
   "pygments_lexer": "ipython3",
   "version": "3.9.15"
  }
 },
 "nbformat": 4,
 "nbformat_minor": 4
}
