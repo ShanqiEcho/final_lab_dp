{
 "cells": [
  {
   "cell_type": "code",
   "execution_count": 1,
   "metadata": {},
   "outputs": [],
   "source": [
    "\n",
    "import os\n",
    "import pandas as pd\n",
    "import random\n",
    "from sklearn.model_selection import train_test_split\n",
    "import matplotlib.pyplot as plt\n"
   ]
  },
  {
   "cell_type": "code",
   "execution_count": 2,
   "metadata": {},
   "outputs": [],
   "source": [
    "\n",
    "file_path = \"df.csv\" \n",
    "data = pd.read_csv(file_path)\n",
    "\n",
    "\n",
    "data['dance_type'] = data['images'].apply(lambda x: x.split('/')[1].split('_')[0])\n",
    "data['video_id'] = data['images'].apply(lambda x: x.split('/')[1].split('_')[1]) \n",
    "data['camera_id'] = data['images'].apply(lambda x: x.split('/')[1].split('_')[2]) "
   ]
  },
  {
   "cell_type": "code",
   "execution_count": 3,
   "metadata": {},
   "outputs": [
    {
     "name": "stdout",
     "output_type": "stream",
     "text": [
      "  dance_type  num_videos\n",
      "0     HipHop           6\n",
      "1       Jazz           6\n",
      "2       Kata           6\n",
      "3     Taichi           6\n"
     ]
    }
   ],
   "source": [
    "\n",
    "dance_video_stats = data.groupby(['dance_type', 'video_id']).size().reset_index(name='frame_count')\n",
    "\n",
    "dance_type_summary = dance_video_stats.groupby('dance_type')['video_id'].count().reset_index(name='num_videos')\n",
    "\n",
    "print(dance_type_summary)\n"
   ]
  },
  {
   "cell_type": "code",
   "execution_count": 4,
   "metadata": {},
   "outputs": [
    {
     "name": "stdout",
     "output_type": "stream",
     "text": [
      "训练集划分： {'HipHop': 4, 'Jazz': 4, 'Kata': 4, 'Taichi': 4}\n",
      "测试集划分： {'HipHop': 2, 'Jazz': 2, 'Kata': 2, 'Taichi': 2}\n"
     ]
    }
   ],
   "source": [
    "\n",
    "def split_videos(dance_video_stats, train_ratio=0.7):\n",
    "    train_videos, test_videos = {}, {}\n",
    "    for dance_type in dance_video_stats['dance_type'].unique():\n",
    "        videos = dance_video_stats[dance_video_stats['dance_type'] == dance_type]['video_id'].unique()\n",
    "        random.shuffle(videos)\n",
    "        split_idx = int(len(videos) * train_ratio)\n",
    "        train_videos[dance_type] = videos[:split_idx] \n",
    "        test_videos[dance_type] = videos[split_idx:] \n",
    "    return train_videos, test_videos\n",
    "\n",
    "\n",
    "train_videos, test_videos = split_videos(dance_video_stats)\n",
    "\n",
    "#Training set split:\n",
    "print(\"训练集划分：\", {k: len(v) for k, v in train_videos.items()})\n",
    "# Test set split:\n",
    "print(\"测试集划分：\", {k: len(v) for k, v in test_videos.items()})"
   ]
  },
  {
   "cell_type": "code",
   "execution_count": 5,
   "metadata": {},
   "outputs": [],
   "source": [
    "import torch\n",
    "from torch.utils.data import Dataset, DataLoader\n",
    "from torchvision import transforms\n",
    "from PIL import Image\n",
    "\n",
    "class DanceDataset(Dataset):\n",
    "    def __init__(self, data, root_dir, transform=None, num_frames=5):\n",
    "        \"\"\"\n",
    "        Args:\n",
    "            data (DataFrame): A DataFrame containing the columns `images` and `dance_type`.\n",
    "            root_dir (str): The root directory of the `images` folder.\n",
    "            transform (callable, optional): Transformations applied to the images.\n",
    "            num_frames (int): The number of frames (time dimension) per sample.\n",
    "        \"\"\"\n",
    "        self.data = data\n",
    "        self.root_dir = root_dir\n",
    "        self.transform = transform\n",
    "        self.num_frames = num_frames\n",
    "\n",
    "        # print(\"Dataset Preview:\")\n",
    "        # print(self.data.head())\n",
    "\n",
    "    def __len__(self):\n",
    "        return len(self.data)\n",
    "\n",
    "    def __getitem__(self, idx):\n",
    "        image_path = os.path.join(self.root_dir, self.data.iloc[idx]['images'])\n",
    "\n",
    "        if not os.path.exists(image_path):\n",
    "            raise FileNotFoundError(f\"文件未找到：{image_path}\")\n",
    "\n",
    "\n",
    "        image = Image.open(image_path).convert(\"RGB\")\n",
    "        if self.transform:\n",
    "            image = self.transform(image)\n",
    "\n",
    "\n",
    "        label = self.data.iloc[idx]['dance_type']\n",
    "        label_mapping = {\"HipHop\": 0, \"Jazz\": 1, \"Kata\": 2, \"Taichi\": 3}\n",
    "        label = label_mapping[label]\n",
    "\n",
    "\n",
    "        image = image.unsqueeze(0).repeat(self.num_frames, 1, 1, 1)  # (time, height, width)\n",
    "        # image = image.unsqueeze(0)  # (1, height, width)\n",
    "\n",
    "        return image, label\n"
   ]
  },
  {
   "cell_type": "code",
   "execution_count": 6,
   "metadata": {},
   "outputs": [
    {
     "name": "stdout",
     "output_type": "stream",
     "text": [
      "训练集样本数: 759\n",
      "测试集样本数: 335\n"
     ]
    }
   ],
   "source": [
    "\n",
    "train_video_ids = [video for videos in train_videos.values() for video in videos]\n",
    "test_video_ids = [video for videos in test_videos.values() for video in videos]\n",
    "\n",
    "train_data = data[data['video_id'].isin(train_video_ids)]\n",
    "test_data = data[data['video_id'].isin(test_video_ids)]\n",
    "\n",
    "\n",
    "# Number of training samples:\n",
    "print(f\"训练集样本数: {len(train_data)}\")\n",
    "# Number of testing samples:\n",
    "print(f\"测试集样本数: {len(test_data)}\")"
   ]
  },
  {
   "cell_type": "code",
   "execution_count": 7,
   "metadata": {},
   "outputs": [],
   "source": [
    "\n",
    "transform = transforms.Compose([\n",
    "    transforms.Resize((250, 250)), \n",
    "    transforms.ToTensor(),        \n",
    "    transforms.Normalize(mean=[0.5, 0.5, 0.5], std=[0.5, 0.5, 0.5])\n",
    "])\n",
    "\n",
    "\n",
    "root_dir = \"segmentation_full_body_mads_dataset\"\n",
    "train_dataset = DanceDataset(train_data, root_dir=root_dir, transform=transform)\n",
    "test_dataset = DanceDataset(test_data, root_dir=root_dir, transform=transform)\n",
    "\n",
    "\n",
    "batch_size = 16\n",
    "train_loader = DataLoader(train_dataset, batch_size=batch_size, shuffle=True, num_workers=0)\n",
    "test_loader = DataLoader(test_dataset, batch_size=batch_size, shuffle=False, num_workers=0)"
   ]
  },
  {
   "cell_type": "code",
   "execution_count": 8,
   "metadata": {},
   "outputs": [
    {
     "name": "stdout",
     "output_type": "stream",
     "text": [
      "Batch images shape: torch.Size([16, 5, 3, 250, 250])\n",
      "Batch labels: tensor([3, 1, 1, 3, 3, 1, 1, 1, 1, 0, 0, 2, 0, 1, 0, 1])\n"
     ]
    }
   ],
   "source": [
    "for images, labels in train_loader:\n",
    "    print(f\"Batch images shape: {images.shape}\")\n",
    "    print(f\"Batch labels: {labels}\")\n",
    "    break"
   ]
  },
  {
   "cell_type": "code",
   "execution_count": 9,
   "metadata": {},
   "outputs": [
    {
     "name": "stdout",
     "output_type": "stream",
     "text": [
      "segmentation_full_body_mads_dataset/images/HipHop_HipHop3_C0_00045.png\n",
      "segmentation_full_body_mads_dataset/images/HipHop_HipHop3_C0_00090.png\n",
      "segmentation_full_body_mads_dataset/images/HipHop_HipHop3_C0_00135.png\n",
      "segmentation_full_body_mads_dataset/images/HipHop_HipHop3_C0_00180.png\n",
      "segmentation_full_body_mads_dataset/images/HipHop_HipHop3_C0_00225.png\n"
     ]
    }
   ],
   "source": [
    "\n",
    "for i in range(5):  \n",
    "    print(os.path.join(root_dir, train_data.iloc[i]['images']))\n",
    "\n",
    "\n",
    "train_dataset = DanceDataset(train_data, root_dir=root_dir, transform=transform)\n"
   ]
  },
  {
   "cell_type": "code",
   "execution_count": 10,
   "metadata": {},
   "outputs": [
    {
     "name": "stdout",
     "output_type": "stream",
     "text": [
      "图像尺寸: <built-in method size of Tensor object at 0x17d48b040>\n",
      "标签: 0\n"
     ]
    }
   ],
   "source": [
    "\n",
    "dataset = DanceDataset(train_data, root_dir=root_dir, transform=transform)\n",
    "\n",
    "\n",
    "image, label = dataset[0]\n",
    "# image size\n",
    "print(f\"图像尺寸: {image.size}\")  \n",
    "# label\n",
    "print(f\"标签: {label}\")         \n"
   ]
  },
  {
   "cell_type": "code",
   "execution_count": 11,
   "metadata": {},
   "outputs": [
    {
     "name": "stdout",
     "output_type": "stream",
     "text": [
      "图像批次维度: torch.Size([16, 5, 3, 250, 250])\n",
      "标签批次: tensor([0, 0, 3, 0, 0, 0, 3, 0, 0, 3, 3, 0, 1, 1, 3, 3])\n"
     ]
    }
   ],
   "source": [
    "\n",
    "\n",
    "for images, labels in train_loader:\n",
    "    # images shape\n",
    "    print(f\"图像批次维度: {images.shape}\")\n",
    "    # labels\n",
    "    print(f\"标签批次: {labels}\")\n",
    "    break\n"
   ]
  },
  {
   "cell_type": "code",
   "execution_count": 12,
   "metadata": {},
   "outputs": [],
   "source": [
    "import torch.nn as nn\n",
    "import torch.nn.functional as F\n",
    "\n",
    "class Dance3DCNN(nn.Module):\n",
    "    def __init__(self, num_classes):\n",
    "        super(Dance3DCNN, self).__init__()\n",
    "        self.conv1 = nn.Conv3d(3, 16, kernel_size=(3, 3, 3), stride=(1, 1, 1), padding=(1, 1, 1))\n",
    "        self.pool1 = nn.MaxPool3d(kernel_size=(2, 2, 2), stride=(2, 2, 2))\n",
    "        self.conv2 = nn.Conv3d(16, 32, kernel_size=(3, 3, 3), stride=(1, 1, 1), padding=(1, 1, 1))\n",
    "        self.pool2 = nn.MaxPool3d(kernel_size=(2, 2, 2), stride=(1, 1, 1)) \n",
    "        \n",
    "        self.fc1 = None\n",
    "        self.fc2 = nn.Linear(128, num_classes)\n",
    "\n",
    "    def forward(self, x): \n",
    "        x = F.relu(self.conv1(x))\n",
    "        x = self.pool1(x)\n",
    "        x = F.relu(self.conv2(x))\n",
    "        x = self.pool2(x)\n",
    "\n",
    "        if self.fc1 is None:\n",
    "            fc1_input_dim = x.numel() // x.size(0)\n",
    "            self.fc1 = nn.Linear(fc1_input_dim, 128).to(x.device)\n",
    "            \n",
    "        x = x.view(x.size(0), -1)\n",
    "        x = F.relu(self.fc1(x))\n",
    "        x = self.fc2(x)\n",
    "        return x\n",
    "\n"
   ]
  },
  {
   "cell_type": "code",
   "execution_count": 13,
   "metadata": {},
   "outputs": [],
   "source": [
    "device = torch.device(\"cuda\" if torch.cuda.is_available() else \"cpu\")\n",
    "\n",
    "model = Dance3DCNN(num_classes=4).to(device)\n",
    "criterion = nn.CrossEntropyLoss()\n",
    "optimizer = torch.optim.Adam(model.parameters(), lr=1e-3)\n"
   ]
  },
  {
   "cell_type": "code",
   "execution_count": 14,
   "metadata": {},
   "outputs": [],
   "source": [
    "# from tqdm import tqdm\n",
    "\n",
    "def train_model(model, train_loader, test_loader, criterion, optimizer, epochs):\n",
    "    train_losses, train_accuracies = [], []\n",
    "    val_losses, val_accuracies = [], []\n",
    "    \n",
    "    for epoch in range(epochs):\n",
    "        print(f\"Epoch {epoch+1}/{epochs}\")\n",
    "        model.train()\n",
    "        train_loss = 0\n",
    "        correct = 0\n",
    "        total = 0\n",
    "\n",
    "        for images, labels in train_loader:\n",
    "        # for images, labels in tqdm(train_loader, desc=f\"Training Epoch {epoch+1}/{epochs}\"):\n",
    "            images, labels = images.to(device), labels.to(device)\n",
    "            images = images.permute(0, 2, 1, 3, 4)  # (batch_size, channels, time, height, width)\n",
    "            # (batch_size, channels*time, height, width)\n",
    "            # images = images.reshape(images.size(0), 3, images.size(2), images.size(3), images.size(4))\n",
    "\n",
    "            \n",
    "            optimizer.zero_grad()\n",
    "            outputs = model(images)\n",
    "            loss = criterion(outputs, labels)\n",
    "            loss.backward()\n",
    "            optimizer.step()\n",
    "\n",
    "            train_loss += loss.item()\n",
    "            _, predicted = outputs.max(1)\n",
    "            total += labels.size(0)\n",
    "            correct += predicted.eq(labels).sum().item()\n",
    "\n",
    "        # train_loss /= len(train_loader)\n",
    "        train_accuracy = 100. * correct / total\n",
    "        train_losses.append(train_loss / len(train_loader))  \n",
    "        # train_losses.append(train_loss)\n",
    "        train_accuracies.append(train_accuracy)\n",
    "        print(f\"Epoch {epoch+1}/{epochs}, Train Loss: {train_loss:.4f}, Train Accuracy: {train_accuracy:.2f}%\")\n",
    "        \n",
    "        \n",
    "\n",
    "        # Validation\n",
    "        model.eval()\n",
    "        test_loss = 0\n",
    "        correct = 0\n",
    "        total = 0\n",
    "        with torch.no_grad():\n",
    "            # for images, labels in tqdm(test_loader, desc=f\"Validation Epoch {epoch+1}/{epochs}\"):\n",
    "            for images, labels in test_loader:\n",
    "                images, labels = images.to(device), labels.to(device)\n",
    "                \n",
    "                images = images.permute(0, 2, 1, 3, 4) \n",
    "                \n",
    "                outputs = model(images)\n",
    "                loss = criterion(outputs, labels)\n",
    "                test_loss += loss.item()\n",
    "                _, predicted = outputs.max(1)\n",
    "                total += labels.size(0)\n",
    "                correct += predicted.eq(labels).sum().item()\n",
    "\n",
    "      \n",
    "        # test_loss /= len(test_loader)\n",
    "        test_accuracy = 100. * correct / total\n",
    "        val_losses.append(test_loss / len(test_loader)) \n",
    "        val_accuracies.append(test_accuracy)\n",
    "        print(f\"Validation Loss: {test_loss:.4f}, Validation Accuracy: {test_accuracy:.2f}%\")\n",
    "\n",
    "\n",
    "        for param_group in optimizer.param_groups:\n",
    "            print(f\"Learning Rate: {param_group['lr']}\")\n",
    "            \n",
    "\n",
    "\n",
    "    plt.figure(figsize=(10, 5))\n",
    "    plt.plot(train_losses, label='Train Loss')\n",
    "    plt.plot(val_losses, label='Validation Loss')\n",
    "    plt.xlabel('Epochs')\n",
    "    plt.ylabel('Loss')\n",
    "    plt.legend()\n",
    "    plt.show()\n",
    "    \n",
    "    plt.figure(figsize=(10, 5))\n",
    "    plt.plot(train_accuracies, label='Train Accuracy')\n",
    "    plt.plot(val_accuracies, label='Validation Accuracy')\n",
    "    plt.xlabel('Epochs')\n",
    "    plt.ylabel('Accuracy')\n",
    "    plt.legend()\n",
    "    plt.show()\n"
   ]
  },
  {
   "cell_type": "code",
   "execution_count": 15,
   "metadata": {},
   "outputs": [
    {
     "name": "stdout",
     "output_type": "stream",
     "text": [
      "Batch images shape: torch.Size([16, 5, 3, 250, 250])\n",
      "Batch labels: tensor([2, 1, 0, 1, 3, 2, 0, 0, 3, 1, 2, 2, 1, 1, 0, 0])\n"
     ]
    }
   ],
   "source": [
    "for images, labels in train_loader:\n",
    "    print(f\"Batch images shape: {images.shape}\")\n",
    "    print(f\"Batch labels: {labels}\")\n",
    "    break"
   ]
  },
  {
   "cell_type": "code",
   "execution_count": 16,
   "metadata": {},
   "outputs": [
    {
     "name": "stdout",
     "output_type": "stream",
     "text": [
      "Epoch 1/10\n",
      "Epoch 1/10, Train Loss: 54.5007, Train Accuracy: 56.65%\n",
      "Validation Loss: 14.5163, Validation Accuracy: 74.63%\n",
      "Learning Rate: 0.001\n",
      "Epoch 2/10\n",
      "Epoch 2/10, Train Loss: 19.1884, Train Accuracy: 84.06%\n",
      "Validation Loss: 6.2776, Validation Accuracy: 86.87%\n",
      "Learning Rate: 0.001\n",
      "Epoch 3/10\n",
      "Epoch 3/10, Train Loss: 8.9152, Train Accuracy: 92.75%\n",
      "Validation Loss: 4.6430, Validation Accuracy: 90.45%\n",
      "Learning Rate: 0.001\n",
      "Epoch 4/10\n",
      "Epoch 4/10, Train Loss: 4.9702, Train Accuracy: 97.36%\n",
      "Validation Loss: 3.8949, Validation Accuracy: 91.64%\n",
      "Learning Rate: 0.001\n",
      "Epoch 5/10\n",
      "Epoch 5/10, Train Loss: 3.6713, Train Accuracy: 97.50%\n",
      "Validation Loss: 3.6176, Validation Accuracy: 92.54%\n",
      "Learning Rate: 0.001\n",
      "Epoch 6/10\n",
      "Epoch 6/10, Train Loss: 2.9674, Train Accuracy: 98.02%\n",
      "Validation Loss: 3.7161, Validation Accuracy: 91.94%\n",
      "Learning Rate: 0.001\n",
      "Epoch 7/10\n",
      "Epoch 7/10, Train Loss: 2.1233, Train Accuracy: 98.42%\n",
      "Validation Loss: 2.2980, Validation Accuracy: 94.93%\n",
      "Learning Rate: 0.001\n",
      "Epoch 8/10\n",
      "Epoch 8/10, Train Loss: 1.8616, Train Accuracy: 99.08%\n",
      "Validation Loss: 2.4353, Validation Accuracy: 95.22%\n",
      "Learning Rate: 0.001\n",
      "Epoch 9/10\n",
      "Epoch 9/10, Train Loss: 1.3773, Train Accuracy: 99.21%\n",
      "Validation Loss: 2.0827, Validation Accuracy: 96.12%\n",
      "Learning Rate: 0.001\n",
      "Epoch 10/10\n",
      "Epoch 10/10, Train Loss: 1.4183, Train Accuracy: 98.95%\n",
      "Validation Loss: 1.8614, Validation Accuracy: 95.52%\n",
      "Learning Rate: 0.001\n"
     ]
    },
    {
     "data": {
      "image/png": "[encoded data removed]",
      "text/plain": [
       "<Figure size 1000x500 with 1 Axes>"
      ]
     },
     "metadata": {},
     "output_type": "display_data"
    },
    {
     "data": {
      "image/png": "[encoded data removed]",
      "text/plain": [
       "<Figure size 1000x500 with 1 Axes>"
      ]
     },
     "metadata": {},
     "output_type": "display_data"
    }
   ],
   "source": [
    "epochs = 10\n",
    "train_model(model, train_loader, test_loader, criterion, optimizer, epochs)\n",
    "torch.save(model.state_dict(),\"ModelTry.pth\")"
   ]
  },
  {
   "cell_type": "code",
   "execution_count": 17,
   "metadata": {},
   "outputs": [
    {
     "name": "stdout",
     "output_type": "stream",
     "text": [
      "conv1.weight: torch.Size([16, 3, 3, 3, 3])\n",
      "conv1.bias: torch.Size([16])\n",
      "conv2.weight: torch.Size([32, 16, 3, 3, 3])\n",
      "conv2.bias: torch.Size([32])\n",
      "fc2.weight: torch.Size([4, 128])\n",
      "fc2.bias: torch.Size([4])\n",
      "fc1.weight: torch.Size([128, 492032])\n",
      "fc1.bias: torch.Size([128])\n"
     ]
    }
   ],
   "source": [
    "state_dict = torch.load(\"ModelTry.pth\", map_location=device)\n",
    "for key, value in state_dict.items():\n",
    "    print(f\"{key}: {value.shape}\")\n"
   ]
  },
  {
   "cell_type": "code",
   "execution_count": null,
   "metadata": {},
   "outputs": [],
   "source": []
  }
 ],
 "metadata": {
  "kernelspec": {
   "display_name": "Python 3 (ipykernel)",
   "language": "python",
   "name": "python3"
  },
  "language_info": {
   "codemirror_mode": {
    "name": "ipython",
    "version": 3
   },
   "file_extension": ".py",
   "mimetype": "text/x-python",
   "name": "python",
   "nbconvert_exporter": "python",
   "pygments_lexer": "ipython3",
   "version": "3.9.15"
  }
 },
 "nbformat": 4,
 "nbformat_minor": 4
}
