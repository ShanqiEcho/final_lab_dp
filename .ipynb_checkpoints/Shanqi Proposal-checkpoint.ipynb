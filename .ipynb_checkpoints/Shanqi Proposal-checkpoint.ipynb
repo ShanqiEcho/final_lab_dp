{
 "cells": [
  {
   "cell_type": "markdown",
   "metadata": {},
   "source": [
    "Project: Classifying dancing videos on Tiktok\n",
    "\n",
    "Me and friend had a argument about a TikTok dancing video recently on the category of that dance. I think it's Jazz but my friend insist that this is just HipHop.\n",
    "Inspired by the conversation, I have decided to train a netrual network and classify dance videos."
   ]
  },
  {
   "cell_type": "markdown",
   "metadata": {},
   "source": [
    "#Understanding the data\n",
    "\n",
    "The data I am using is from here https://www.kaggle.com/datasets/tapakah68/segmentation-full-body-mads-dataset?resource=download, originally from the City University of HongKong(http://visal.cs.cityu.edu.hk/research/mads-demo/)\n",
    "\n",
    "Data size and structure:\n",
    "The data is craeted by spliting the video into frames and highlight a person in each frame \n",
    "The data is about 140 mb for the mask images, about 304 mb for original images, about 168 mb for the collage images.\n",
    "\n",
    "I will split dataset into 80% training, 10% validation, and 10% testing, while ensuring equal representation of dance styles.\n",
    "\n",
    "• Data cleanness\n",
    "It is very clean data with good labels, segmentation masks and their alignment with video frames.\n",
    "\n",
    "• Diversity of features:\n",
    "The dimensions are all 512*384. They are well-processed and have equal features.\n"
   ]
  },
  {
   "cell_type": "markdown",
   "metadata": {},
   "source": [
    "#Understanding the task\n",
    "• What problem are you trying to solve with your neural network model?\n",
    "Train an CNN model to classify frames or sequences in dancing videos into different dance styles.\n",
    "\n",
    "• What is the significance of solving the problem?\n",
    "See who between me and my friend win the argument. \n",
    "Additionally, Automating dance classification could assist in choreography analysis, dance education, or even recommendation systems for dance content.\n",
    "\n",
    "• What will be the evaluation metric for your neural network model?\n",
    "I can calculate the classification accuracy for classifying dance styles. The labels can be gained from TikTok video tags. \n",
    "\n",
    "• What would constitute a good performance?\n",
    "• Is there a baseline method to compare against after meeting the performance?\n",
    "We can use pre-trained YoloV4 as a baseline method."
   ]
  },
  {
   "cell_type": "markdown",
   "metadata": {},
   "source": [
    "Developing an initial plan for your project\n",
    "• What will be the inputs and outputs (including their dimensions) of your neural network model?\n",
    "input size is 512*384*3, output is going to be a class probability vector, where each value corresponds to the probability of a specific dance style, the size can be float[5]\n",
    "\n",
    "• What data preparation methods do you plan to use?\n",
    "Padding + Resize and probably Data Augmentation\n",
    "• What neural network model do you plan to use? (MLP, CNN, RNN, GAN, Transformer etc)\n",
    "CNN\n",
    "• What loss function do you plan to use?\n",
    "I use Cross-Entropy Loss for classification \n",
    "• How do you plan to evaluate your model?"
   ]
  }
 ],
 "metadata": {
  "kernelspec": {
   "display_name": "base",
   "language": "python",
   "name": "python3"
  },
  "language_info": {
   "codemirror_mode": {
    "name": "ipython",
    "version": 3
   },
   "file_extension": ".py",
   "mimetype": "text/x-python",
   "name": "python",
   "nbconvert_exporter": "python",
   "pygments_lexer": "ipython3",
   "version": "3.12.3"
  }
 },
 "nbformat": 4,
 "nbformat_minor": 2
}
