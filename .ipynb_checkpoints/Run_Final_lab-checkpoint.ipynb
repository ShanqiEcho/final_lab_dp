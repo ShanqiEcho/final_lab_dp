{
 "cells": [
  {
   "cell_type": "code",
   "execution_count": 1,
   "metadata": {},
   "outputs": [
    {
     "data": {
      "text/plain": [
       "Dance3DCNN(\n",
       "  (conv1): Conv3d(3, 16, kernel_size=(3, 3, 3), stride=(1, 1, 1), padding=(1, 1, 1))\n",
       "  (pool1): MaxPool3d(kernel_size=(2, 2, 2), stride=(2, 2, 2), padding=0, dilation=1, ceil_mode=False)\n",
       "  (conv2): Conv3d(16, 32, kernel_size=(3, 3, 3), stride=(1, 1, 1), padding=(1, 1, 1))\n",
       "  (pool2): MaxPool3d(kernel_size=(2, 2, 2), stride=(1, 1, 1), padding=0, dilation=1, ceil_mode=False)\n",
       "  (fc1): Linear(in_features=492032, out_features=128, bias=True)\n",
       "  (fc2): Linear(in_features=128, out_features=4, bias=True)\n",
       ")"
      ]
     },
     "execution_count": 1,
     "metadata": {},
     "output_type": "execute_result"
    }
   ],
   "source": [
    "import torch\n",
    "import torch.nn as nn\n",
    "\n",
    "# 定义与训练时一致的模型结构\n",
    "class Dance3DCNN(nn.Module):\n",
    "    def __init__(self, num_classes):\n",
    "        super(Dance3DCNN, self).__init__()\n",
    "        self.conv1 = nn.Conv3d(3, 16, kernel_size=(3, 3, 3), stride=(1, 1, 1), padding=(1, 1, 1))\n",
    "        self.pool1 = nn.MaxPool3d(kernel_size=(2, 2, 2), stride=(2, 2, 2))\n",
    "        self.conv2 = nn.Conv3d(16, 32, kernel_size=(3, 3, 3), stride=(1, 1, 1), padding=(1, 1, 1))\n",
    "        self.pool2 = nn.MaxPool3d(kernel_size=(2, 2, 2), stride=(1, 1, 1)) \n",
    "        self.fc1 = nn.Linear(32 * 1 * 124 * 124, 128)\n",
    "        self.fc2 = nn.Linear(128, num_classes)\n",
    "\n",
    "    def forward(self, x):\n",
    "        x = torch.relu(self.conv1(x))\n",
    "        x = self.pool1(x)\n",
    "        x = torch.relu(self.conv2(x))\n",
    "        x = self.pool2(x)\n",
    "        x = x.view(x.size(0), -1)\n",
    "        x = torch.relu(self.fc1(x))\n",
    "        x = self.fc2(x)\n",
    "        return x\n",
    "\n",
    "# 加载模型\n",
    "device = torch.device(\"cuda\" if torch.cuda.is_available() else \"cpu\")\n",
    "model = Dance3DCNN(num_classes=4).to(device)\n",
    "model.load_state_dict(torch.load(\"xiaoewochaoshini.pth\", map_location=device))\n",
    "model.eval()\n"
   ]
  },
  {
   "cell_type": "code",
   "execution_count": 2,
   "metadata": {},
   "outputs": [
    {
     "name": "stdout",
     "output_type": "stream",
     "text": [
      "Input Tensor Shape: torch.Size([1, 3, 5, 250, 250])\n"
     ]
    }
   ],
   "source": [
    "import cv2\n",
    "from torchvision import transforms\n",
    "import numpy as np\n",
    "from PIL import Image  # 确保导入 PIL 库\n",
    "\n",
    "# 定义预处理\n",
    "transform = transforms.Compose([\n",
    "    transforms.Resize((250, 250)),  # 和训练时保持一致\n",
    "    transforms.ToTensor(),\n",
    "    transforms.Normalize(mean=[0.5, 0.5, 0.5], std=[0.5, 0.5, 0.5])\n",
    "])\n",
    "\n",
    "# 视频路径\n",
    "video_path = \"TestVideo_JA01.mp4\"\n",
    "\n",
    "# 打开视频\n",
    "cap = cv2.VideoCapture(video_path)\n",
    "frames = []\n",
    "frame_count = 0\n",
    "\n",
    "while cap.isOpened():\n",
    "    ret, frame = cap.read()\n",
    "    if not ret:\n",
    "        break\n",
    "\n",
    "    # OpenCV 的默认颜色空间是 BGR，需要转为 RGB\n",
    "    frame = cv2.cvtColor(frame, cv2.COLOR_BGR2RGB)\n",
    "    frame = Image.fromarray(frame)\n",
    "    frame = transform(frame).unsqueeze(0)  # 增加 batch 维度\n",
    "    frames.append(frame)\n",
    "    frame_count += 1\n",
    "\n",
    "    # 控制时间维度为 5\n",
    "    if len(frames) == 5:\n",
    "        break\n",
    "\n",
    "cap.release()\n",
    "\n",
    "# 转换为模型输入格式 (batch_size=1, channels=3, time=5, height=250, width=250)\n",
    "input_tensor = torch.stack(frames).permute(1, 2, 0, 3, 4).to(device)\n",
    "# input_tensor = input_tensor.permute(0, 2, 1, 3, 4)\n",
    "print(f\"Input Tensor Shape: {input_tensor.shape}\")\n"
   ]
  },
  {
   "cell_type": "code",
   "execution_count": 3,
   "metadata": {},
   "outputs": [
    {
     "name": "stdout",
     "output_type": "stream",
     "text": [
      "Predicted Class: 1\n",
      "Predicted Dance Type: Jazz\n"
     ]
    }
   ],
   "source": [
    "# 预测\n",
    "with torch.no_grad():\n",
    "    outputs = model(input_tensor)\n",
    "    _, predicted = torch.max(outputs, 1)\n",
    "    print(f\"Predicted Class: {predicted.item()}\")\n",
    "\n",
    "# 类别映射（根据您的任务修改）\n",
    "class_mapping = {0: \"HipHop\", 1: \"Jazz\", 2: \"Kata\", 3: \"Taichi\"}\n",
    "predicted_class = class_mapping[predicted.item()]\n",
    "print(f\"Predicted Dance Type: {predicted_class}\")\n"
   ]
  },
  {
   "cell_type": "code",
   "execution_count": null,
   "metadata": {},
   "outputs": [],
   "source": []
  }
 ],
 "metadata": {
  "kernelspec": {
   "display_name": "Python 3 (ipykernel)",
   "language": "python",
   "name": "python3"
  },
  "language_info": {
   "codemirror_mode": {
    "name": "ipython",
    "version": 3
   },
   "file_extension": ".py",
   "mimetype": "text/x-python",
   "name": "python",
   "nbconvert_exporter": "python",
   "pygments_lexer": "ipython3",
   "version": "3.9.15"
  }
 },
 "nbformat": 4,
 "nbformat_minor": 4
}
